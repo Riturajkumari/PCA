{
  "nbformat": 4,
  "nbformat_minor": 0,
  "metadata": {
    "colab": {
      "provenance": [],
      "authorship_tag": "ABX9TyMq9MGOs+pcyXGmticpIfjH",
      "include_colab_link": true
    },
    "kernelspec": {
      "name": "python3",
      "display_name": "Python 3"
    },
    "language_info": {
      "name": "python"
    }
  },
  "cells": [
    {
      "cell_type": "markdown",
      "metadata": {
        "id": "view-in-github",
        "colab_type": "text"
      },
      "source": [
        "<a href=\"https://colab.research.google.com/github/Riturajkumari/PCA/blob/main/PCA_Assignment3.ipynb\" target=\"_parent\"><img src=\"https://colab.research.google.com/assets/colab-badge.svg\" alt=\"Open In Colab\"/></a>"
      ]
    },
    {
      "cell_type": "markdown",
      "source": [
        "**Q1. What are Eigenvalues and Eigenvectors? How are they related to the Eigen-Decomposition approach?\n",
        "Explain with an example.**"
      ],
      "metadata": {
        "id": "UmBkObALqvWz"
      }
    },
    {
      "cell_type": "markdown",
      "source": [
        "- Eigenvalues are associated with eigenvectors in Linear algebra. Both terms are used in the analysis of linear transformations. Eigenvalues are the special set of scalar values that is associated with the set of linear equations most probably in the matrix equations.\n",
        "- The eigenvectors are also termed as characteristic roots. It is a non-zero vector that can be changed at most by its scalar factor after the application of linear transformations. And the corresponding factor which scales the eigenvectors is called an eigenvalue."
      ],
      "metadata": {
        "id": "DA2xRhh4t0m7"
      }
    },
    {
      "cell_type": "markdown",
      "source": [
        "- Eigenvectors are the vectors (non-zero) that do not change the direction when any linear transformation is applied. It changes by only a scalar factor.\n",
        "-  if A is a linear transformation from a vector space V and x is a vector in V, which is not a zero vector, then v is an eigenvector of A if A(X) is a scalar multiple of x."
      ],
      "metadata": {
        "id": "TMu-rJEBuNEc"
      }
    },
    {
      "cell_type": "markdown",
      "source": [
        "\n",
        "    - Eigenvectors with Distinct Eigenvalues are Linearly Independent\n",
        "     Singular Matrices have Zero Eigenvalues\n",
        "    - If A is a square matrix, then λ = 0 is not an eigenvalue of A\n",
        "    - For a scalar multiple of a matrix: If A is a square matrix and λ is an eigenvalue of A. Then, aλ is an eigenvalue of aA.\n",
        "    - For Matrix powers: If A is square matrix and λ is an eigenvalue of A and n≥0 is an integer, then λn is an eigenvalue of An.\n",
        "    - For polynomials of matrix: If A is a square matrix, λ is an eigenvalue of A and  p(x) is a polynomial in variable x, then p(λ) is the eigenvalue of matrix p(A).\n",
        "    - Inverse Matrix: If A is a square matrix, λ is an eigenvalue of A, then λ-1 is an eigenvalue of A-1\n",
        "    - Transpose matrix: If A is a square matrix, λ is an eigenvalue of A, then λ is an eigenvalue of At\n"
      ],
      "metadata": {
        "id": "K3sjtXnpvd_8"
      }
    },
    {
      "cell_type": "code",
      "source": [],
      "metadata": {
        "id": "Jq7UC6E6qz8b"
      },
      "execution_count": null,
      "outputs": []
    },
    {
      "cell_type": "markdown",
      "source": [
        "**Q2. What is eigen decomposition and what is its significance in linear algebra?**"
      ],
      "metadata": {
        "id": "n3Son46Zq0Gc"
      }
    },
    {
      "cell_type": "code",
      "source": [],
      "metadata": {
        "id": "_9n2szngq3vi"
      },
      "execution_count": null,
      "outputs": []
    },
    {
      "cell_type": "code",
      "source": [],
      "metadata": {
        "id": "1Bf7gdSBq4bK"
      },
      "execution_count": null,
      "outputs": []
    },
    {
      "cell_type": "markdown",
      "source": [
        "**Q3. What are the conditions that must be satisfied for a square matrix to be diagonalizable using the\n",
        "Eigen-Decomposition approach? Provide a brief proof to support your answer.**"
      ],
      "metadata": {
        "id": "BOvACrf2q4i0"
      }
    },
    {
      "cell_type": "code",
      "source": [],
      "metadata": {
        "id": "JLz3-_VJq8Vj"
      },
      "execution_count": null,
      "outputs": []
    },
    {
      "cell_type": "code",
      "source": [],
      "metadata": {
        "id": "J-aOjdqBq86z"
      },
      "execution_count": null,
      "outputs": []
    },
    {
      "cell_type": "markdown",
      "source": [
        "**Q4. What is the significance of the spectral theorem in the context of the Eigen-Decomposition approach?\n",
        "How is it related to the diagonalizability of a matrix? Explain with an example.**"
      ],
      "metadata": {
        "id": "0l-bx6Ybq9Cb"
      }
    },
    {
      "cell_type": "code",
      "source": [],
      "metadata": {
        "id": "eKN0ZdlKrAVr"
      },
      "execution_count": null,
      "outputs": []
    },
    {
      "cell_type": "code",
      "source": [],
      "metadata": {
        "id": "tafPsRUTrBAs"
      },
      "execution_count": null,
      "outputs": []
    },
    {
      "cell_type": "markdown",
      "source": [
        "**Q5. How do you find the eigenvalues of a matrix and what do they represent?**"
      ],
      "metadata": {
        "id": "8WvrfCp3rBJK"
      }
    },
    {
      "cell_type": "code",
      "source": [],
      "metadata": {
        "id": "rAP7fL9FrEGK"
      },
      "execution_count": null,
      "outputs": []
    },
    {
      "cell_type": "markdown",
      "source": [
        "**Q6. What are eigenvectors and how are they related to eigenvalues?**"
      ],
      "metadata": {
        "id": "2RJeW8FLst-e"
      }
    },
    {
      "cell_type": "code",
      "source": [],
      "metadata": {
        "id": "XV_PUEsksxLr"
      },
      "execution_count": null,
      "outputs": []
    },
    {
      "cell_type": "markdown",
      "source": [
        "**Q7. Can you explain the geometric interpretation of eigenvectors and eigenvalues?**"
      ],
      "metadata": {
        "id": "DX-2jG6ErIIN"
      }
    },
    {
      "cell_type": "code",
      "source": [],
      "metadata": {
        "id": "IMzBt4H-srXS"
      },
      "execution_count": null,
      "outputs": []
    },
    {
      "cell_type": "markdown",
      "source": [
        "**Q8. What are some real-world applications of eigen decomposition?**"
      ],
      "metadata": {
        "id": "KqLADcOxsyCz"
      }
    },
    {
      "cell_type": "code",
      "source": [],
      "metadata": {
        "id": "Z2vAXINDs2hK"
      },
      "execution_count": null,
      "outputs": []
    },
    {
      "cell_type": "markdown",
      "source": [
        "**Q9. Can a matrix have more than one set of eigenvectors and eigenvalues?**"
      ],
      "metadata": {
        "id": "HFoSUEZKs3FD"
      }
    },
    {
      "cell_type": "code",
      "source": [],
      "metadata": {
        "id": "-sT6EAb8s6ni"
      },
      "execution_count": null,
      "outputs": []
    },
    {
      "cell_type": "code",
      "source": [],
      "metadata": {
        "id": "OVyZpmwgs7KU"
      },
      "execution_count": null,
      "outputs": []
    },
    {
      "cell_type": "markdown",
      "source": [
        "**Q10. In what ways is the Eigen-Decomposition approach useful in data analysis and machine learning?\n",
        "Discuss at least three specific applications or techniques that rely on Eigen-Decomposition.**"
      ],
      "metadata": {
        "id": "4ZO6_ht3s7YT"
      }
    },
    {
      "cell_type": "code",
      "source": [],
      "metadata": {
        "id": "KvEOye37tAQq"
      },
      "execution_count": null,
      "outputs": []
    }
  ]
}